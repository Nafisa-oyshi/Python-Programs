{
  "nbformat": 4,
  "nbformat_minor": 0,
  "metadata": {
    "colab": {
      "name": "21201179_NafisaTabassumOyshi_Sec09_Assignment07.ipynb",
      "provenance": [],
      "collapsed_sections": []
    },
    "kernelspec": {
      "name": "python3",
      "display_name": "Python 3"
    },
    "language_info": {
      "name": "python"
    }
  },
  "cells": [
    {
      "cell_type": "code",
      "execution_count": 52,
      "metadata": {
        "colab": {
          "base_uri": "https://localhost:8080/"
        },
        "id": "LTCjB0PIM9HP",
        "outputId": "a87e4679-a852-4f1e-9aea-8c2c80aec587"
      },
      "outputs": [
        {
          "output_type": "stream",
          "name": "stdout",
          "text": [
            "[1, 2, 2, 3, 5, 6, 10, 11, 12, 14, 15, 17, 18, 20, 29]\n"
          ]
        }
      ],
      "source": [
        "#Task 1\n",
        "\n",
        "my_list = [10, 1, 20, 3, 6, 2, 5, 11, 15, 2, 12, 14, 17, 18, 29]\n",
        "\n",
        "for i in range(0,len(my_list)):\n",
        "  for j in range(0,len(my_list)-1):\n",
        "    if my_list[j]>my_list[j+1]:\n",
        "      temp=my_list[j]\n",
        "      my_list[j]=my_list[j+1]\n",
        "      my_list[j+1]=temp\n",
        "      \n",
        "print(my_list)"
      ]
    },
    {
      "cell_type": "code",
      "source": [
        "#Task 2\n",
        "\n",
        "my_list= [10, 1, 20, 3, 6, 2, 5, 11, 15, 2, 12, 14, 17, 18, 29]\n",
        "\n",
        "for i in range(0,len(my_list)):\n",
        "  mini=my_list[i]\n",
        "  min_idx=i\n",
        "  for j in range(i+1,len(my_list)):\n",
        "    if my_list[j]<mini:\n",
        "      mini=my_list[j]\n",
        "      min_idx=j\n",
        "  temp=my_list[min_idx]\n",
        "  my_list[min_idx]=my_list[i]\n",
        "  my_list[i]=temp\n",
        "print(my_list)\n",
        "\n",
        "  "
      ],
      "metadata": {
        "colab": {
          "base_uri": "https://localhost:8080/"
        },
        "id": "fkeBhx0POyC1",
        "outputId": "0392c4d1-1c80-4c4f-d008-89365888c870"
      },
      "execution_count": null,
      "outputs": [
        {
          "output_type": "stream",
          "name": "stdout",
          "text": [
            "[1, 2, 2, 3, 5, 6, 10, 11, 12, 14, 15, 17, 18, 20, 29]\n"
          ]
        }
      ]
    },
    {
      "cell_type": "code",
      "source": [
        "#Task 3\n",
        "\n",
        "my_list = [10, 1, 20, 3, 6, 2, 5, 11, 15, 2, 12, 14, 17, 18, 29]\n",
        "\n",
        "for i in range(0,len(my_list)):\n",
        "  for j in range(0,len(my_list)-1):\n",
        "    if my_list[j]<my_list[j+1]:\n",
        "      temp=my_list[j]\n",
        "      my_list[j]=my_list[j+1]\n",
        "      my_list[j+1]=temp\n",
        "print(my_list)"
      ],
      "metadata": {
        "colab": {
          "base_uri": "https://localhost:8080/"
        },
        "id": "CPybc_dKSnQk",
        "outputId": "da4118ad-aa27-4dea-f91e-8ec45562e8a1"
      },
      "execution_count": null,
      "outputs": [
        {
          "output_type": "stream",
          "name": "stdout",
          "text": [
            "[29, 20, 18, 17, 15, 14, 12, 11, 10, 6, 5, 3, 2, 2, 1]\n"
          ]
        }
      ]
    },
    {
      "cell_type": "code",
      "source": [
        "#Task 4\n",
        "\n",
        "sitting_list = [10,30,20,70,11,15,22,16,58,100,12,56,70,80]\n",
        "\n",
        "for i in range(0,len(sitting_list),2):\n",
        "  for j in range(0,len(sitting_list)-2,2):\n",
        "    if sitting_list[j]>sitting_list[j+2]:\n",
        "      temp=sitting_list[j]\n",
        "      sitting_list[j]=sitting_list[j+2]\n",
        "      sitting_list[j+2]=temp\n",
        "\n",
        "for i in range(1,len(sitting_list),2):\n",
        "  for j in range(1,len(sitting_list)-2,2):\n",
        "    if sitting_list[j]<sitting_list[j+2]:\n",
        "      temp=sitting_list[j]\n",
        "      sitting_list[j]=sitting_list[j+2]\n",
        "      sitting_list[j+2]=temp\n",
        "print(sitting_list)\n",
        "\n",
        "\n"
      ],
      "metadata": {
        "colab": {
          "base_uri": "https://localhost:8080/"
        },
        "id": "dBumJZU2TU2n",
        "outputId": "f2cd9c3f-f40e-40f2-a7bc-d22f59be0cc3"
      },
      "execution_count": 53,
      "outputs": [
        {
          "output_type": "stream",
          "name": "stdout",
          "text": [
            "[10, 100, 11, 80, 12, 70, 20, 56, 22, 30, 58, 16, 70, 15]\n"
          ]
        }
      ]
    },
    {
      "cell_type": "code",
      "source": [
        "#Task 5\n",
        "\n",
        "enter=input(\"Enter course: \")\n",
        "lst = [ [\"Alan\", 95, 87, 91], [\"Turing\", 92, 90, 83], [\"Elon\", 87, 92, 80], [\"Musk\", 85, 94, 90] ]\n",
        "dictcse={lst[0][1]:lst[0][0],lst[1][1]:lst[1][0],lst[2][1]:lst[2][0],lst[3][1]:lst[3][0]}\n",
        "dictphy={lst[0][2]:lst[0][0],lst[1][2]:lst[1][0],lst[2][2]:lst[2][0],lst[3][2]:lst[3][0]}\n",
        "dictmat={lst[0][3]:lst[0][0],lst[1][3]:lst[1][0],lst[2][3]:lst[2][0],lst[3][3]:lst[3][0]}\n",
        "listcse=[lst[0][1],lst[1][1],lst[2][1],lst[3][1]]\n",
        "listphy=[lst[0][2],lst[1][2],lst[2][2],lst[3][2]]\n",
        "listmat=[lst[0][3],lst[1][3],lst[2][3],lst[3][3]]\n",
        "def func(my_list):\n",
        "  for i in range(len(my_list)-1):\n",
        "   tem=i\n",
        "   for j in range(i,len(my_list)):\n",
        "    if my_list[j]>my_list[tem]:\n",
        "      tem=j\n",
        "   j=my_list[tem]\n",
        "   my_list[tem]=my_list[i]\n",
        "   my_list[i]=j\n",
        "  return my_list\n",
        "if enter==\"CSE110\":\n",
        "  ls1=func(listcse)\n",
        "  for i in ls1:\n",
        "    print(dictcse[i])\n",
        "elif enter==\"PHY111\":\n",
        "  ls1=func(listphy)\n",
        "  for i in ls1:\n",
        "    print(dictphy[i])\n",
        "elif enter==\"MAT110\":\n",
        "  ls1=func(listmat)\n",
        "  for i in ls1:\n",
        "    print(dictmat[i])\n"
      ],
      "metadata": {
        "id": "XImopwbHWvL8",
        "colab": {
          "base_uri": "https://localhost:8080/"
        },
        "outputId": "c0ff31e3-a992-46af-c368-997f4b295333"
      },
      "execution_count": 54,
      "outputs": [
        {
          "output_type": "stream",
          "name": "stdout",
          "text": [
            "Enter course: PHY111\n",
            "Musk\n",
            "Elon\n",
            "Turing\n",
            "Alan\n"
          ]
        }
      ]
    },
    {
      "cell_type": "code",
      "source": [
        "#Task 6\n",
        "\n",
        "my_list = [4, 2, 3, 1, 6, 5]\n",
        "list2=my_list.copy()\n",
        "count=0\n",
        "for i in range(0,len(my_list)):\n",
        "  for j in range(0,len(my_list)-1):\n",
        "    if my_list[j]>my_list[j+1]:\n",
        "      temp=my_list[j]\n",
        "      my_list[j]=my_list[j+1]\n",
        "      my_list[j+1]=temp\n",
        "for i in range(0,len(my_list)):\n",
        "  if list2[i]!=my_list[i]:\n",
        "     count+=1\n",
        "print(count)\n"
      ],
      "metadata": {
        "colab": {
          "base_uri": "https://localhost:8080/"
        },
        "id": "FqNeOIVmjtkE",
        "outputId": "4b2a2f3c-e2f1-4134-f2c2-7f97b048f9d3"
      },
      "execution_count": 55,
      "outputs": [
        {
          "output_type": "stream",
          "name": "stdout",
          "text": [
            "4\n"
          ]
        }
      ]
    },
    {
      "cell_type": "code",
      "source": [
        "#Task 7\n",
        "\n",
        "list_1=input(\"Please enter a list:\")\n",
        "list_2=input(\"Please enter a list:\")\n",
        "list_1=list_1[1:-1]\n",
        "list_2=list_2[1:-1]\n",
        "list3=[]\n",
        "\n",
        "list_1=list_1.split(\",\")\n",
        "list_2=list_2.split(\",\")\n",
        "for i in list_1:\n",
        "  list3.append(int(i))\n",
        "   \n",
        "for j in list_2:\n",
        "  list3.append(int(j))\n",
        "\n",
        "for i in range(0,len(list3)):\n",
        "  for j in range(0,len(list3)-1):\n",
        "    if list3[j]>list3[j+1]:\n",
        "      temp=list3[j]\n",
        "      list3[j]=list3[j+1]\n",
        "      list3[j+1]=temp\n",
        "n=len(list3)\n",
        "if n%2==0:\n",
        "  median=(list3[n//2-1]+list3[n//2])/2\n",
        "else:\n",
        "  median=list3[n//2]\n",
        "\n",
        "\n",
        "print(\"Sorted list =\",list3)\n",
        "print(\"Median =\",median)"
      ],
      "metadata": {
        "colab": {
          "base_uri": "https://localhost:8080/"
        },
        "id": "6x9O-p4UoLl_",
        "outputId": "26cebb0b-e388-452c-e658-6f2faba1a7ac"
      },
      "execution_count": 46,
      "outputs": [
        {
          "output_type": "stream",
          "name": "stdout",
          "text": [
            "Please enter a list:[1, 7, 9, 10]\n",
            "Please enter a list:[2, 7, 6, 5]\n",
            "Sorted list = [1, 2, 5, 6, 7, 7, 9, 10]\n",
            "Median = 6.5\n"
          ]
        }
      ]
    },
    {
      "cell_type": "code",
      "source": [
        "#Task 8\n",
        "\n",
        "enter=input(\"Enter a list: \")\n",
        "enter=enter[1:len(enter)-1:]\n",
        "enter=enter.split(\",\")\n",
        "list1=[]\n",
        "for i in enter:\n",
        "  list1.append(int(i))\n",
        "my_list=[]\n",
        "for i in list1:\n",
        "  for j in list1:\n",
        "    if j==i:\n",
        "      continue\n",
        "    else:\n",
        "      my_list.append(i+j)\n",
        "for i in range(0,(len(my_list))):\n",
        "  temp=i\n",
        "  for j in range(i,len(my_list)):\n",
        "    if my_list[j]<my_list[temp]:\n",
        "      temp=j\n",
        "  z=my_list[temp]\n",
        "  my_list[temp]=my_list[i]\n",
        "  my_list[i]=z\n",
        "min=abs(my_list[0])\n",
        "for k in my_list:\n",
        "  if abs(k)<min:\n",
        "    min=abs(k)\n",
        "    x=k\n",
        "for i in list1:\n",
        "  for j in list1:\n",
        "    if i+j==x:\n",
        "      y=i\n",
        "      z=j\n",
        "      break\n",
        "print(\"Two pairs which have the smallest sum=\",z,\"and\",y)\n",
        "      "
      ],
      "metadata": {
        "colab": {
          "base_uri": "https://localhost:8080/"
        },
        "id": "_DSXRuD1qvKL",
        "outputId": "4748c40b-2483-4e52-cbe1-7e56c378d12f"
      },
      "execution_count": 50,
      "outputs": [
        {
          "output_type": "stream",
          "name": "stdout",
          "text": [
            "Enter a list: [1, -8, 4, -7, -20, 26, 70, -85]\n",
            "Two pairs which have the smallest sum= 4 and -7\n"
          ]
        }
      ]
    },
    {
      "cell_type": "code",
      "source": [
        "#Task 9\n",
        "\n",
        "list1= [(1,7), (4,5), (-1,7), (-2,0), (1,1), (5,-1)]\n",
        "import math\n",
        "my_list=[]\n",
        "dict1={}\n",
        "for i in list1:\n",
        "  c=math.sqrt((i[0]**2)+(i[1]**2))\n",
        "  my_list.append(c)\n",
        "  dict1.update({i:c})\n",
        "for i in range(len(my_list)):\n",
        "  temp=i\n",
        "  for j in range(i,len(my_list)):\n",
        "    if my_list[j]<my_list[temp]:\n",
        "      temp=j\n",
        "  k=my_list[temp]\n",
        "  my_list[temp]=my_list[i]\n",
        "  my_list[i]=k\n",
        "for i in dict1.items():\n",
        "  if i[1]==my_list[0]:\n",
        "   print(\"Minimum distance=\",i[1])\n",
        "   print(\"Here the closest point is\",i[0],\"which has a distance of\",i[1],\"from the origin.\")\n"
      ],
      "metadata": {
        "colab": {
          "base_uri": "https://localhost:8080/"
        },
        "id": "tW2LebRV6UEP",
        "outputId": "0cb8437e-af36-44bb-b2e3-708e4838fd24"
      },
      "execution_count": 56,
      "outputs": [
        {
          "output_type": "stream",
          "name": "stdout",
          "text": [
            "Minimum distance= 1.4142135623730951\n",
            "Here the closest point is (1, 1) which has a distance of 1.4142135623730951 from the origin.\n"
          ]
        }
      ]
    }
  ]
}