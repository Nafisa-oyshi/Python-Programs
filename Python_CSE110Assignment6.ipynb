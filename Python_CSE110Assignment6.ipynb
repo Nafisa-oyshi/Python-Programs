{
  "nbformat": 4,
  "nbformat_minor": 0,
  "metadata": {
    "colab": {
      "name": "CSE Assignment06.ipynb",
      "provenance": [],
      "collapsed_sections": []
    },
    "kernelspec": {
      "name": "python3",
      "display_name": "Python 3"
    },
    "language_info": {
      "name": "python"
    }
  },
  "cells": [
    {
      "cell_type": "markdown",
      "source": [
        "Functions"
      ],
      "metadata": {
        "id": "d03voorC-n5x"
      }
    },
    {
      "cell_type": "code",
      "source": [
        "#Task1\n",
        "def even_checker(x):\n",
        "  if x%2==0:\n",
        "    print(\"Even!!\")\n",
        "  else:\n",
        "    print(\"Odd!!\")\n",
        "even_checker(2)"
      ],
      "metadata": {
        "colab": {
          "base_uri": "https://localhost:8080/"
        },
        "id": "XP0z1VyvGnkf",
        "outputId": "a2451a46-a9ac-4a59-f2f4-11a22ea9d321"
      },
      "execution_count": null,
      "outputs": [
        {
          "output_type": "stream",
          "name": "stdout",
          "text": [
            "Even!!\n"
          ]
        }
      ]
    },
    {
      "cell_type": "code",
      "source": [
        "#Task2\n",
        "def fibonacci(var):\n",
        "  x=0\n",
        "  print(x,end=\" \")\n",
        "  y=1\n",
        "  print(y,end=\" \")\n",
        "  while x+y<=var:\n",
        "    z=x+y\n",
        "    x=y\n",
        "    y=z\n",
        "    print(z,end=\" \")\n",
        "\n",
        "fibonacci(10)"
      ],
      "metadata": {
        "colab": {
          "base_uri": "https://localhost:8080/"
        },
        "id": "Xb7vGpHvKAdJ",
        "outputId": "011f85ce-249f-4122-a942-0260c2e6cbc0"
      },
      "execution_count": null,
      "outputs": [
        {
          "output_type": "stream",
          "name": "stdout",
          "text": [
            "0 1 1 2 3 5 8 "
          ]
        }
      ]
    },
    {
      "cell_type": "code",
      "source": [
        "#Task 3\n",
        "def foo_moo(var):\n",
        "  if var%2==0 and var%3==0:\n",
        "    output=\"FooMoo\"\n",
        "  elif var%3==0:\n",
        "    output=\"Moo\"\n",
        "  elif var%2==0:\n",
        "    output=\"Foo\"\n",
        "  else:\n",
        "    output=\"Boo\"\n",
        "  return output\n",
        "print(foo_moo(6))"
      ],
      "metadata": {
        "colab": {
          "base_uri": "https://localhost:8080/"
        },
        "id": "iUJ9NVEIR7kT",
        "outputId": "ff83d73c-1005-4bc3-ac72-f139bf2a85dc"
      },
      "execution_count": null,
      "outputs": [
        {
          "output_type": "stream",
          "name": "stdout",
          "text": [
            "FooMoo\n"
          ]
        }
      ]
    },
    {
      "cell_type": "code",
      "source": [
        "#Task 4\n",
        "def function_name(entry):\n",
        "  str1=\"\"\n",
        "  Ucount=0\n",
        "  Lcount=0\n",
        "  for i in entry:\n",
        "    if i==\" \":\n",
        "      continue\n",
        "    else:\n",
        "      str1+=i\n",
        "  for j in str1:\n",
        "    if 97<=ord(j)<=122:\n",
        "      Lcount+=1\n",
        "    elif 65<=ord(j)<=90:\n",
        "      Ucount+=1\n",
        "  print(\"No. of Uppercase characters :\",Ucount)\n",
        "  print(\"No. of Lowercase characters :\",Lcount)\n",
        "function_name(\"HaRRy PotteR\")\n"
      ],
      "metadata": {
        "id": "73WeQTHpW8E7",
        "colab": {
          "base_uri": "https://localhost:8080/"
        },
        "outputId": "29b076d1-2cb1-4c8d-df5f-c68260994c3b"
      },
      "execution_count": null,
      "outputs": [
        {
          "output_type": "stream",
          "name": "stdout",
          "text": [
            "No. of Uppercase characters : 5\n",
            "No. of Lowercase characters : 6\n"
          ]
        }
      ]
    },
    {
      "cell_type": "code",
      "source": [
        "#Task 5\n",
        "\n",
        "def calculate_tax(age,salary,job):\n",
        "  age=int(input(\"Enter your age: \"))\n",
        "  salary=int(input(\"Enter your salary: \"))\n",
        "  job=input(\"Enter your designation: \")\n",
        "  if age<18:\n",
        "    tax=0\n",
        "  elif \"President\" in job or \"president\" in job:\n",
        "    tax=0\n",
        "  elif salary<10000:\n",
        "    tax=0\n",
        "  elif 10000<salary<20000:\n",
        "    tax=(salary*5)/100\n",
        "  elif salary>20000:\n",
        "    tax=(salary*10)/100\n",
        "  return tax\n",
        "print(calculate_tax(\"age\",\"salary\",\"job\"))\n"
      ],
      "metadata": {
        "id": "cQBO1P-Ghfby",
        "colab": {
          "base_uri": "https://localhost:8080/"
        },
        "outputId": "af1ff679-c8dc-41a0-92e9-29482f6a2685"
      },
      "execution_count": null,
      "outputs": [
        {
          "output_type": "stream",
          "name": "stdout",
          "text": [
            "Enter your age: 20\n",
            "Enter your salary: 18000\n",
            "Enter your designation: guh\n",
            "900.0\n"
          ]
        }
      ]
    },
    {
      "cell_type": "code",
      "source": [
        "#Task 6\n",
        "\n",
        "def day_count(days):\n",
        "  days=int(input(\"Enter the ammount of days:\"))\n",
        "  year=0\n",
        "  month=0\n",
        "  day=0\n",
        "  val=0\n",
        "  val2=0\n",
        "  year=days//365\n",
        "  val=days%365\n",
        "  month=val//30\n",
        "  val2=val%30\n",
        "  day=val2\n",
        "  print(year,\"years\",month,\"months\",day,\"days\")\n",
        "day_count(\"days\")  "
      ],
      "metadata": {
        "colab": {
          "base_uri": "https://localhost:8080/"
        },
        "id": "aHyc_R4tB-rQ",
        "outputId": "91a3bf67-1aca-45b4-b033-8c07fc6e29e8"
      },
      "execution_count": null,
      "outputs": [
        {
          "output_type": "stream",
          "name": "stdout",
          "text": [
            "Enter the ammount of days:2250\n",
            "6 years 2 months 0 days\n"
          ]
        }
      ]
    },
    {
      "cell_type": "code",
      "source": [
        "#Task 7\n",
        "\n",
        "def show_palindrome(x):\n",
        "  str1=\"\"\n",
        "  for i in range(1,x+1):\n",
        "    str1+=str(i) \n",
        "  for j in range(x-1,0,-1):\n",
        "    str1+=str(j)\n",
        "  return str1\n",
        "print(show_palindrome(5))\n",
        "\n",
        "\n",
        "\n",
        "\n"
      ],
      "metadata": {
        "colab": {
          "base_uri": "https://localhost:8080/"
        },
        "id": "CCxoSWBeGVCh",
        "outputId": "6c3ca76a-116e-4718-bd55-64cf8690c902"
      },
      "execution_count": null,
      "outputs": [
        {
          "output_type": "stream",
          "name": "stdout",
          "text": [
            "123454321\n"
          ]
        }
      ]
    },
    {
      "cell_type": "code",
      "source": [
        "#Task 8\n",
        "\n",
        "def show_palindromic(x):\n",
        "  str1=\"\"\n",
        "  for i in range(1,x+1):\n",
        "      str1+=str(i)\n",
        "      str1+=\" \"\n",
        "  for i in range(x-1,0,-1):\n",
        "      str1+=str(i)\n",
        "      str1+=\" \"\n",
        "  return str1\n",
        "def show_palindromic_triangle(y):\n",
        "  str1=\" \"\n",
        "  for i in range(1,y+1):\n",
        "      str1+=(y-i)*2*\" \"\n",
        "      str1+=(show_palindromic(i))\n",
        "      print(str1,end=\"\")\n",
        "      print()\n",
        "      str1=\" \"\n",
        "  \n",
        "  \n",
        "show_palindromic_triangle(3)"
      ],
      "metadata": {
        "colab": {
          "base_uri": "https://localhost:8080/"
        },
        "id": "0bcPhj7OP9Ca",
        "outputId": "4fe9d146-41f3-4bdb-b0dc-c8dea7378c63"
      },
      "execution_count": null,
      "outputs": [
        {
          "output_type": "stream",
          "name": "stdout",
          "text": [
            "     1 \n",
            "   1 2 1 \n",
            " 1 2 3 2 1 \n"
          ]
        }
      ]
    },
    {
      "cell_type": "code",
      "source": [
        "#Task 9\n",
        "\n",
        "def area_circumference_generator(x):\n",
        "  import math\n",
        "  list1=[]\n",
        "  area=math.pi*(x*x)\n",
        "  list1.append(area)\n",
        "  circumference=2*math.pi*x\n",
        "  list1.append(circumference)\n",
        "  newtuple=tuple(list1)\n",
        "  return newtuple\n",
        "a,b=area_circumference_generator(2.5)\n",
        "print(area_circumference_generator(2.5))\n",
        "print(\"Area of the circle is\",a,\"and circumference is\",b)\n",
        "\n"
      ],
      "metadata": {
        "colab": {
          "base_uri": "https://localhost:8080/"
        },
        "id": "4nfLh5_qlbcp",
        "outputId": "20ea537c-f1dd-45db-b61d-12bb54e09ee3"
      },
      "execution_count": null,
      "outputs": [
        {
          "output_type": "stream",
          "name": "stdout",
          "text": [
            "(19.634954084936208, 15.707963267948966)\n",
            "Area of the circle is 19.634954084936208 and circumference is 15.707963267948966\n"
          ]
        }
      ]
    },
    {
      "cell_type": "code",
      "source": [
        "#Task 10\n",
        "\n",
        "def function(*x):\n",
        "  dict1={}\n",
        "  for i in range(x[0],x[1]+1):\n",
        "    dict1[i]=i*i\n",
        "  return dict1\n",
        "print(function(5,12))"
      ],
      "metadata": {
        "colab": {
          "base_uri": "https://localhost:8080/"
        },
        "id": "OQjiDz4uG13s",
        "outputId": "5dc07564-bad6-4fe9-f7ce-17ed80b8194f"
      },
      "execution_count": null,
      "outputs": [
        {
          "output_type": "stream",
          "name": "stdout",
          "text": [
            "{5: 25, 6: 36, 7: 49, 8: 64, 9: 81, 10: 100, 11: 121, 12: 144}\n"
          ]
        }
      ]
    },
    {
      "cell_type": "code",
      "source": [
        "#Task 11\n",
        "\n",
        "def rem_duplicate(x):\n",
        "  list1=[]\n",
        "  newlist=[]\n",
        "  for i in x:\n",
        "    list1.append(i)\n",
        "  \n",
        "  for j in list1:\n",
        "    if j not in newlist:\n",
        "      newlist.append(j)\n",
        "    else:\n",
        "      continue\n",
        "  output=tuple(newlist)\n",
        "  return output\n",
        "print(rem_duplicate((\"Hi\", 1, 2, 3, 3, \"Hi\",'a', 'a', [1,2])))\n"
      ],
      "metadata": {
        "colab": {
          "base_uri": "https://localhost:8080/"
        },
        "id": "rpWqpp9620fQ",
        "outputId": "7f448c98-fd31-4a37-e128-d3cfb147ec89"
      },
      "execution_count": null,
      "outputs": [
        {
          "output_type": "stream",
          "name": "stdout",
          "text": [
            "('Hi', 1, 2, 3, 'a', [1, 2])\n"
          ]
        }
      ]
    },
    {
      "cell_type": "code",
      "source": [
        "#Task 12\n",
        "\n",
        "def function_name(list1):\n",
        "  count=0\n",
        "  for i in list1:\n",
        "    var=list1.count(i)\n",
        "    if var>2:\n",
        "      list1.remove(i)\n",
        "      count+=1\n",
        "\n",
        "  print(\"Remove:\",count)\n",
        "  return list1\n",
        "    \n",
        "print(function_name([1, 2, 3, 3, 3, 3, 4, 5, 8, 8]))"
      ],
      "metadata": {
        "colab": {
          "base_uri": "https://localhost:8080/"
        },
        "id": "JG6HH61x5u2n",
        "outputId": "0d4f7e98-9997-41c1-aa3e-d4b03c75b378"
      },
      "execution_count": null,
      "outputs": [
        {
          "output_type": "stream",
          "name": "stdout",
          "text": [
            "Remove: 2\n",
            "[1, 2, 3, 3, 4, 5, 8, 8]\n"
          ]
        }
      ]
    },
    {
      "cell_type": "code",
      "source": [
        "#Task 13\n",
        "\n",
        "def function(x,y,z):\n",
        "  oparand=input(\"Enter operand: \")\n",
        "  y=int(input(\"Enter first number: \"))\n",
        "  z=int(input(\"Enter second number: \"))\n",
        "  if oparand==\"+\":\n",
        "    result=y+z\n",
        "    \n",
        "  elif oparand==\"-\":\n",
        "    if y>z:\n",
        "      result=y-z\n",
        "    else:\n",
        "      result=z-y\n",
        "  elif oparand==\"*\":\n",
        "    result=y*z\n",
        "  elif oparand==\"/\":\n",
        "    result=y/z\n",
        "  return result\n",
        "print(function(\"oparand\",\"y\",\"z\"))"
      ],
      "metadata": {
        "colab": {
          "base_uri": "https://localhost:8080/"
        },
        "id": "rdIepcnPCSR_",
        "outputId": "54910033-c96b-4192-854a-4af98b4b04fb"
      },
      "execution_count": null,
      "outputs": [
        {
          "output_type": "stream",
          "name": "stdout",
          "text": [
            "Enter operand: -\n",
            "Enter first number: 5\n",
            "Enter second number: 9\n",
            "4\n"
          ]
        }
      ]
    },
    {
      "cell_type": "code",
      "source": [
        "#Task 14\n",
        "\n",
        "def function(x,y):\n",
        "  str1=\"\"\n",
        "  str2=\"\"\n",
        "  new_string=\"\"\n",
        "  x=input(\"Enter the sentence: \")\n",
        "  y=int(input(\"Enter the position: \"))\n",
        "  for i in range(0,len(x)):\n",
        "    if i==0:\n",
        "      str1+=x[i]\n",
        "    elif i%y==0:\n",
        "      str2+=x[i]\n",
        "      \n",
        "    else:\n",
        "      str1+=x[i]\n",
        "  new_string=str1+str2\n",
        "  return new_string\n",
        "print(function(\"x\",\"y\"))\n",
        "\n",
        "  \n",
        "\n"
      ],
      "metadata": {
        "colab": {
          "base_uri": "https://localhost:8080/"
        },
        "id": "Ewp6azIAFSUd",
        "outputId": "7e03518e-5920-4aa7-cc8f-58dbb1996f3f"
      },
      "execution_count": null,
      "outputs": [
        {
          "output_type": "stream",
          "name": "stdout",
          "text": [
            "Enter the sentence: I love programming.\n",
            "Enter the position: 3\n",
            "I lveprgrmmngo oai.\n"
          ]
        }
      ]
    },
    {
      "cell_type": "code",
      "source": [
        "#Task 15\n",
        "\n",
        "def function(order,location=\"Dhanmondi\"):\n",
        "  order=input(\"Enter the list:\")\n",
        "  order=order[1:len(order)-1]\n",
        "  order=order.split(\",\")\n",
        "\n",
        "  dict1={\"Rice\":105,\"Potato\":20,\"Chicken\":250,\"Beef\":510,\"Oil\":85}\n",
        "  \n",
        "  sum=0\n",
        "  for i in order:\n",
        "    for key,value in dict1.items():\n",
        "      if i[1:-1]==key:\n",
        "        sum+=value\n",
        "      else:\n",
        "        continue\n",
        "  if location==\"Dhanmondi\":\n",
        "      sum+=30\n",
        "  else:\n",
        "      sum+=70\n",
        "\n",
        "  return sum\n",
        "print(function(\"order\",\"Mohakhali\"))\n"
      ],
      "metadata": {
        "colab": {
          "base_uri": "https://localhost:8080/"
        },
        "id": "IpeRR6W6KK_Y",
        "outputId": "a98192fe-04cf-4453-9070-a486f3ca6850"
      },
      "execution_count": null,
      "outputs": [
        {
          "output_type": "stream",
          "name": "stdout",
          "text": [
            "Enter the list:[\"Rice\", \"Beef\", \"Rice\"]\n",
            "175\n"
          ]
        }
      ]
    },
    {
      "cell_type": "markdown",
      "source": [
        ""
      ],
      "metadata": {
        "id": "HwFfSvCKhdn6"
      }
    }
  ]
}