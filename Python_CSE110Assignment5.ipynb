{
  "nbformat": 4,
  "nbformat_minor": 0,
  "metadata": {
    "colab": {
      "name": "CSE110 Lab Assignment 5.ipynb",
      "provenance": [],
      "collapsed_sections": []
    },
    "kernelspec": {
      "name": "python3",
      "display_name": "Python 3"
    },
    "language_info": {
      "name": "python"
    }
  },
  "cells": [
    {
      "cell_type": "markdown",
      "source": [
        "Tuple and Dictionary\n"
      ],
      "metadata": {
        "id": "_rdDgY2s-aB0"
      }
    },
    {
      "cell_type": "code",
      "execution_count": null,
      "metadata": {
        "colab": {
          "base_uri": "https://localhost:8080/"
        },
        "id": "a804JofLIxB4",
        "outputId": "15c18dcd-8764-4195-9972-3c72c80570ad"
      },
      "outputs": [
        {
          "output_type": "stream",
          "name": "stdout",
          "text": [
            "400\n"
          ]
        }
      ],
      "source": [
        "#Task 1\n",
        "a_tuple = (\"The Institute\", (\"Best Mystery & Thriller\", \"The Silent Patient\", 68821), 75717,\n",
        "[1, 2, 3, 400, 5, 6, 7], (\"Best Fiction\", \"The Testaments\", 98291))\n",
        "print(a_tuple[3][3])"
      ]
    },
    {
      "cell_type": "code",
      "source": [
        "#Task 2\n",
        "tuple1=(10, 20, 24, 25, 26, 35, 70)\n",
        "tuple2=tuple1[2:len(tuple1)-2]\n",
        "print(tuple2)\n",
        "\n",
        "\n"
      ],
      "metadata": {
        "colab": {
          "base_uri": "https://localhost:8080/"
        },
        "id": "_gZe7wqhJpyC",
        "outputId": "cd39bc11-ef34-4c82-fa98-0cbb256b5581"
      },
      "execution_count": null,
      "outputs": [
        {
          "output_type": "stream",
          "name": "stdout",
          "text": [
            "(24, 25, 26)\n"
          ]
        }
      ]
    },
    {
      "cell_type": "code",
      "source": [
        "#Task 3\n",
        "book_info = (\n",
        "(\"Best Mystery & Thriller\",\"The Silent Patient\",68,821),\n",
        "(\"Best Horror\",\"The Institute\",75,717),\n",
        "(\"Best History & Biography\",\"The five\",31,783 ),\n",
        "(\"Best Fiction\",\"The Testaments\",98,291)\n",
        ")\n",
        "print(\"Size of the tuple is :\",len(book_info))\n",
        "for items in book_info:\n",
        "  print(items)"
      ],
      "metadata": {
        "id": "WyqUcI35Nogq",
        "colab": {
          "base_uri": "https://localhost:8080/"
        },
        "outputId": "7bdccd65-3156-4c24-ffd1-b68ee9706ff3"
      },
      "execution_count": null,
      "outputs": [
        {
          "output_type": "stream",
          "name": "stdout",
          "text": [
            "Size of the tuple is : 4\n",
            "('Best Mystery & Thriller', 'The Silent Patient', 68, 821)\n",
            "('Best Horror', 'The Institute', 75, 717)\n",
            "('Best History & Biography', 'The five', 31, 783)\n",
            "('Best Fiction', 'The Testaments', 98, 291)\n"
          ]
        }
      ]
    },
    {
      "cell_type": "code",
      "source": [
        "#Task 4\n",
        "\n",
        "book_info = (\n",
        "(\"Best Mystery & Thriller\",\"The Silent Patient\",68821),\n",
        "(\"Best Horror\",\"The Institute\",75717),\n",
        "(\"Best History & Biography\",\"The five\",31783 ),\n",
        "(\"Best Fiction\",\"The Testaments\",98291)\n",
        ")\n",
        "\n",
        "a,b,c,d=book_info\n",
        "print(a[1],\"won the\",a[0],\"category with\",a[2],\"votes\")\n",
        "print(b[1],\"won the\",b[0],\"category with\",b[2],\"votes\")\n",
        "print(c[1],\"won the\",c[0],\"category with\",c[2],\"votes\")\n",
        "print(d[1],\"won the\",d[0],\"category with\",d[2],\"votes\")\n",
        "\n"
      ],
      "metadata": {
        "id": "sLsh3SmrhCyJ",
        "colab": {
          "base_uri": "https://localhost:8080/"
        },
        "outputId": "681d6ab6-e4b0-48c0-cf97-91e705590452"
      },
      "execution_count": null,
      "outputs": [
        {
          "output_type": "stream",
          "name": "stdout",
          "text": [
            "The Silent Patient won the ' Best Mystery & Thriller 'category with 68821 votes\n",
            "The Institute won the Best Horror category with 75717 votes\n",
            "The five won the Best History & Biography category with 31783 votes\n",
            "The Testaments won the Best Fiction category with 98291 votes\n"
          ]
        }
      ]
    },
    {
      "cell_type": "code",
      "source": [
        "#Task 5\n",
        "\n",
        "count=0\n",
        "tuple1=(10, 8, 5, 2, 10, 15, 10, 8, 5, 8, 8, 2)\n",
        "val=int(input(\"Enter a number:\"))\n",
        "for i in tuple1:\n",
        "  if i==val:\n",
        "    count+=1\n",
        "  else:\n",
        "    continue\n",
        "print(val,\"appears\",count,\"times in the tuple\")"
      ],
      "metadata": {
        "colab": {
          "base_uri": "https://localhost:8080/"
        },
        "id": "vXuy3Efv0AAn",
        "outputId": "44c69dde-14d4-4114-c812-c081cccdc1fd"
      },
      "execution_count": null,
      "outputs": [
        {
          "output_type": "stream",
          "name": "stdout",
          "text": [
            "Enter a number:10\n",
            "10 appears 3 times in the tuple\n"
          ]
        }
      ]
    },
    {
      "cell_type": "code",
      "source": [
        "#Task 6\n",
        "\n",
        "tuple1=('a', 'b', 'c', 'd', 'e', 'f', 'g', 'h')\n",
        "\n",
        "list1=[]\n",
        "newlist=[]\n",
        "for i in tuple1:\n",
        "  list1.append(i)\n",
        "\n",
        "for j in range(len(list1)-1,-1,-1):\n",
        "  newlist.append(list1[j])\n",
        "print(tuple(newlist))\n",
        "\n",
        "\n",
        "      "
      ],
      "metadata": {
        "id": "JPmqk8Xl030e",
        "colab": {
          "base_uri": "https://localhost:8080/"
        },
        "outputId": "c51cddf6-4011-468c-bae1-f8d4663064a0"
      },
      "execution_count": null,
      "outputs": [
        {
          "output_type": "stream",
          "name": "stdout",
          "text": [
            "('h', 'g', 'f', 'e', 'd', 'c', 'b', 'a')\n"
          ]
        }
      ]
    },
    {
      "cell_type": "code",
      "source": [
        "#TASK-7\n",
        "\n",
        "dict1={'Harry':15, 'Draco':8, 'Nevil':19}\n",
        "dict2={'Ginie':18, 'Luna': 14}\n",
        "my_dict={**dict1,**dict2}\n",
        "print(my_dict)\n"
      ],
      "metadata": {
        "colab": {
          "base_uri": "https://localhost:8080/"
        },
        "id": "COAgLMvSS9hP",
        "outputId": "ffd1618a-1788-4bce-f5d8-aa7ff0645e12"
      },
      "execution_count": null,
      "outputs": [
        {
          "output_type": "stream",
          "name": "stdout",
          "text": [
            "{'Harry': 15, 'Draco': 8, 'Nevil': 19, 'Ginie': 18, 'Luna': 14}\n"
          ]
        }
      ]
    },
    {
      "cell_type": "code",
      "source": [
        "#TASK-8\n",
        "\n",
        "values=[]\n",
        "entry2=\"\"\n",
        "sum=0\n",
        "count=0\n",
        "avg=0\n",
        "entry1=input(\"Enter the dictionary:\")\n",
        "for i in entry1:\n",
        "  if i==\"{\":\n",
        "    continue\n",
        "  elif i==\"}\":\n",
        "    continue\n",
        "  else:\n",
        "    entry2+=i\n",
        "entry2=entry2.split(\",\")\n",
        "for element in entry2:\n",
        "  a=element.split(\":\")\n",
        "  values.append(a[1])\n",
        "for val in values:\n",
        "  sum+=int(val)\n",
        "  count+=1\n",
        "avg=sum/count\n",
        "print(\"Average is\",avg)\n"
      ],
      "metadata": {
        "id": "LAxorptAXYmZ",
        "colab": {
          "base_uri": "https://localhost:8080/"
        },
        "outputId": "138582b9-d666-47e4-f138-6b453648600f"
      },
      "execution_count": null,
      "outputs": [
        {
          "output_type": "stream",
          "name": "stdout",
          "text": [
            "Enter the dictionary:{'Jon': 100, 'Dan':200, 'Rob':300}\n",
            "[' 100', '200', '300']\n",
            "Average is 200.0\n"
          ]
        }
      ]
    },
    {
      "cell_type": "code",
      "source": [
        "#TASK-9\n",
        "\n",
        "new_dict={}\n",
        "exam_marks = {'Cierra Vega': 175, 'Alden Cantrell': 200, 'Kierra Gentry': 165, 'Pierre Cox': 190}\n",
        "\n",
        "entry=int(input(\"Enter a number:\"))\n",
        "for key,value in exam_marks.items():\n",
        "  if entry<=value:\n",
        "    new_dict[key]=value\n",
        "  else:\n",
        "    continue\n",
        "print(new_dict)\n",
        "\n",
        "\n",
        "\n",
        "\n",
        "  "
      ],
      "metadata": {
        "colab": {
          "base_uri": "https://localhost:8080/"
        },
        "id": "dsXMh-84D2oi",
        "outputId": "cf7077cb-0015-4788-89e1-dc10ed3d3bfe"
      },
      "execution_count": null,
      "outputs": [
        {
          "output_type": "stream",
          "name": "stdout",
          "text": [
            "Enter a number:190\n",
            "{'Alden Cantrell': 200, 'Pierre Cox': 190}\n"
          ]
        }
      ]
    },
    {
      "cell_type": "code",
      "source": [
        "#TASK-10\n",
        "\n",
        "num=0\n",
        "max=0\n",
        "entry={'sci fi': 12, 'mystery': 15, 'horror': 8, 'mythology': 10, 'young_adult': 4, 'adventure':14}\n",
        "for key,value in entry.items():\n",
        "  num=value\n",
        "  if max<num:\n",
        "    max=num\n",
        "    maxk=key\n",
        "\n",
        "  else:\n",
        "    continue\n",
        "\n",
        "print(\"The highest selling book genre is\",maxk,\" and the number of books sold are\",max)\n",
        "\n"
      ],
      "metadata": {
        "colab": {
          "base_uri": "https://localhost:8080/"
        },
        "id": "Q-9EIQ4sUr5T",
        "outputId": "54dd4485-5fa1-4dff-df3c-e6a711db3078"
      },
      "execution_count": null,
      "outputs": [
        {
          "output_type": "stream",
          "name": "stdout",
          "text": [
            "The highest selling book genre is mystery  and the number of books sold are 15\n"
          ]
        }
      ]
    },
    {
      "cell_type": "code",
      "source": [
        "#TASK-11\n",
        "\n",
        "new_dict={}\n",
        "entry=input(\"Enter a string:\")\n",
        "new_str=\"\"\n",
        "for i in entry:\n",
        " if i==\" \":\n",
        "   continue\n",
        " else:\n",
        "   new_str+=i\n",
        "for j in new_str:\n",
        "  if j in new_dict:\n",
        "    new_dict[j]+=1\n",
        "  else:\n",
        "    new_dict[j]=1\n",
        "print(new_dict)\n",
        "\n",
        "\n"
      ],
      "metadata": {
        "colab": {
          "base_uri": "https://localhost:8080/"
        },
        "id": "sxb_mEcjuzn0",
        "outputId": "f4ce4173-e453-405b-c3b4-4e92ce0287fd"
      },
      "execution_count": null,
      "outputs": [
        {
          "output_type": "stream",
          "name": "stdout",
          "text": [
            "Enter a string:python programming is fun\n",
            "{'p': 2, 'y': 1, 't': 1, 'h': 1, 'o': 2, 'n': 3, 'r': 2, 'g': 2, 'a': 1, 'm': 2, 'i': 2, 's': 1, 'f': 1, 'u': 1}\n"
          ]
        }
      ]
    },
    {
      "cell_type": "code",
      "source": [
        "#TASK-12\n",
        "\n",
        "count=0\n",
        "dict_1 = {'A': [1, 2, 3], 'b': ['1', '2'], \"c\": [4, 5, 6, 7]}\n",
        "list1=[]\n",
        "for value in dict_1.values():\n",
        "  list1.extend(value)\n",
        "for element in list1:\n",
        "  count+=1\n",
        "print(count)"
      ],
      "metadata": {
        "colab": {
          "base_uri": "https://localhost:8080/"
        },
        "id": "gPmZJJH91f3d",
        "outputId": "b99b1923-facc-47f5-deb0-f1035e0e1265"
      },
      "execution_count": null,
      "outputs": [
        {
          "output_type": "stream",
          "name": "stdout",
          "text": [
            "9\n"
          ]
        }
      ]
    },
    {
      "cell_type": "code",
      "source": [
        "#TASK-13\n",
        "\n",
        "list_1 = [(\"a\", 1), (\"b\", 2), (\"a\", 3), (\"b\", 1), (\"a\", 2), (\"c\", 1)]\n",
        "\n",
        "newdict = {}\n",
        "for key,value in list_1:\n",
        "    if key in newdict:\n",
        "        newdict[key].append(value)\n",
        "    else:\n",
        "        newdict[key] = [value]\n",
        "\n",
        "\n",
        "print(newdict)"
      ],
      "metadata": {
        "colab": {
          "base_uri": "https://localhost:8080/"
        },
        "id": "CbKk-yePD5zC",
        "outputId": "c2cc06ae-4ddf-48ec-ee6e-2b74079ca456"
      },
      "execution_count": null,
      "outputs": [
        {
          "output_type": "stream",
          "name": "stdout",
          "text": [
            "{'a': [1, 3, 2], 'b': [2, 1], 'c': [1]}\n"
          ]
        }
      ]
    },
    {
      "cell_type": "code",
      "source": [
        "#Task 20\n",
        "tuple1=[(2, 3), (4, 5), (6, 7), (2, 8)]\n",
        "list1=[]\n",
        "for element in tuple1:\n",
        "  var=element[0]*element[1]\n",
        "  list1.append(var)\n",
        "print(list1)\n",
        "\n",
        "\n",
        " \n"
      ],
      "metadata": {
        "colab": {
          "base_uri": "https://localhost:8080/"
        },
        "id": "vqCrKlykf3So",
        "outputId": "f53276d0-ea19-4418-85ac-e418a4ef91a2"
      },
      "execution_count": null,
      "outputs": [
        {
          "output_type": "stream",
          "name": "stdout",
          "text": [
            "[6, 20, 42, 16]\n"
          ]
        }
      ]
    },
    {
      "cell_type": "code",
      "source": [
        "#Task 21\n",
        "str=\"\"\n",
        "tuple1 = ( [1, 2, 3], [4, 5, 6], [7, 8, 9], [10, 11, 12])\n",
        "val=input(\"Enter\")\n",
        "for element in range(0,len(tuple1)-1):\n",
        "  element[2]=val\n",
        "print(tuple1)\n",
        "\n",
        "  \n",
        "  "
      ],
      "metadata": {
        "colab": {
          "base_uri": "https://localhost:8080/",
          "height": 252
        },
        "id": "5zD3tybTqqdx",
        "outputId": "6f45e23e-fb87-4e2d-d902-3f27f931b5b2"
      },
      "execution_count": null,
      "outputs": [
        {
          "name": "stdout",
          "output_type": "stream",
          "text": [
            "Enterabc\n"
          ]
        },
        {
          "output_type": "error",
          "ename": "TypeError",
          "evalue": "ignored",
          "traceback": [
            "\u001b[0;31m---------------------------------------------------------------------------\u001b[0m",
            "\u001b[0;31mTypeError\u001b[0m                                 Traceback (most recent call last)",
            "\u001b[0;32m<ipython-input-38-9d5b463c5dca>\u001b[0m in \u001b[0;36m<module>\u001b[0;34m()\u001b[0m\n\u001b[1;32m      4\u001b[0m \u001b[0mval\u001b[0m\u001b[0;34m=\u001b[0m\u001b[0minput\u001b[0m\u001b[0;34m(\u001b[0m\u001b[0;34m\"Enter\"\u001b[0m\u001b[0;34m)\u001b[0m\u001b[0;34m\u001b[0m\u001b[0;34m\u001b[0m\u001b[0m\n\u001b[1;32m      5\u001b[0m \u001b[0;32mfor\u001b[0m \u001b[0melement\u001b[0m \u001b[0;32min\u001b[0m \u001b[0mrange\u001b[0m\u001b[0;34m(\u001b[0m\u001b[0;36m0\u001b[0m\u001b[0;34m,\u001b[0m\u001b[0mlen\u001b[0m\u001b[0;34m(\u001b[0m\u001b[0mtuple1\u001b[0m\u001b[0;34m)\u001b[0m\u001b[0;34m-\u001b[0m\u001b[0;36m1\u001b[0m\u001b[0;34m)\u001b[0m\u001b[0;34m:\u001b[0m\u001b[0;34m\u001b[0m\u001b[0;34m\u001b[0m\u001b[0m\n\u001b[0;32m----> 6\u001b[0;31m   \u001b[0melement\u001b[0m\u001b[0;34m[\u001b[0m\u001b[0;36m2\u001b[0m\u001b[0;34m]\u001b[0m\u001b[0;34m=\u001b[0m\u001b[0mval\u001b[0m\u001b[0;34m\u001b[0m\u001b[0;34m\u001b[0m\u001b[0m\n\u001b[0m\u001b[1;32m      7\u001b[0m \u001b[0mprint\u001b[0m\u001b[0;34m(\u001b[0m\u001b[0mtuple1\u001b[0m\u001b[0;34m)\u001b[0m\u001b[0;34m\u001b[0m\u001b[0;34m\u001b[0m\u001b[0m\n\u001b[1;32m      8\u001b[0m \u001b[0;34m\u001b[0m\u001b[0m\n",
            "\u001b[0;31mTypeError\u001b[0m: 'int' object does not support item assignment"
          ]
        }
      ]
    },
    {
      "cell_type": "code",
      "source": [
        "dict_1 = {'A': [1, 2, 3], 'b': ['1', '2'], \"c\": [4, 5, 6, 7]}\n",
        "for key in dict_1.keys():\n",
        "  print(key)"
      ],
      "metadata": {
        "colab": {
          "base_uri": "https://localhost:8080/"
        },
        "id": "l-WAiWFM1dnX",
        "outputId": "c0c4dd38-a9ff-404d-da04-fa10a675b56c"
      },
      "execution_count": null,
      "outputs": [
        {
          "output_type": "stream",
          "name": "stdout",
          "text": [
            "A\n",
            "b\n",
            "c\n"
          ]
        }
      ]
    }
  ]
}